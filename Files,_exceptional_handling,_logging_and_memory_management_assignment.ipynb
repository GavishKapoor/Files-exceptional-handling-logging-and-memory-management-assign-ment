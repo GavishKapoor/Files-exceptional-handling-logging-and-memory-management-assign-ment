{
  "nbformat": 4,
  "nbformat_minor": 0,
  "metadata": {
    "colab": {
      "provenance": [],
      "authorship_tag": "ABX9TyPk3N0BEyv3VGzu2GY7gzQP",
      "include_colab_link": true
    },
    "kernelspec": {
      "name": "python3",
      "display_name": "Python 3"
    },
    "language_info": {
      "name": "python"
    }
  },
  "cells": [
    {
      "cell_type": "markdown",
      "metadata": {
        "id": "view-in-github",
        "colab_type": "text"
      },
      "source": [
        "<a href=\"https://colab.research.google.com/github/GavishKapoor/Files-exceptional-handling-logging-and-memory-management-assign-ment/blob/main/Files%2C_exceptional_handling%2C_logging_and_memory_management_assignment.ipynb\" target=\"_parent\"><img src=\"https://colab.research.google.com/assets/colab-badge.svg\" alt=\"Open In Colab\"/></a>"
      ]
    },
    {
      "cell_type": "markdown",
      "source": [
        "THEORY QUESTION"
      ],
      "metadata": {
        "id": "7CNv8ZSNiOkK"
      }
    },
    {
      "cell_type": "markdown",
      "source": [
        "\n",
        "1.What is the difference between interpreted and compiled languages? --\n",
        "Interpreted languages execute code line‐by-line at runtime, while compiled languages translate the entire program into machine code before execution.\n",
        "\n",
        "2.What is exception handling in Python? --\n",
        "It is a mechanism that allows you to manage runtime errors (exceptions) by using keywords like try, except, else, and finally.\n",
        "\n",
        "3.What is the purpose of the finally block in exception handling? --\n",
        "The finally block always executes after the try and except blocks, regardless of whether an exception was raised—typically used for cleanup actions.\n",
        "\n",
        "4.What is logging in Python? --\n",
        "Logging is the process of recording messages about a program’s execution (such as informational messages, warnings, and errors) to help with debugging and monitoring.\n",
        "\n",
        "5.What is the significance of the del method in Python? --\n",
        "The __del__ method is a destructor that is called when an object is about to be destroyed; it’s used to clean up resources before the object is removed from memory.\n",
        "\n",
        "6.What is the difference between import and from ... import in Python? --\n",
        "\n",
        "import module: Imports the whole module (you access items with module.item).\n",
        "from module import item: Imports specific attributes or functions directly, so you can use them without the module prefix.\n",
        "\n",
        "7.How can you handle multiple exceptions in Python? --\n",
        "You can handle multiple exceptions by either listing them as a tuple in one except block or by using separate except blocks for each exception type.\n",
        "\n",
        "8.What is the purpose of the with statement when handling files in Python? --\n",
        "The with statement creates a context that automatically takes care of opening and closing a file, even if an error occurs.\n",
        "\n",
        "9.What is the difference between multithreading and multiprocessing? --\n",
        "Multithreading: Uses threads that share the same memory space, useful for I/O-bound tasks.\n",
        "Multiprocessing: Runs tasks in separate processes, each with its own memory space, which is better for CPU-bound tasks.\n",
        "\n",
        "10.What are the advantages of using logging in a program? --\n",
        "Logging helps track events, debug issues, monitor program flow, and maintain a record of errors or unusual events.\n",
        "\n",
        "11.What is memory management in Python? --\n",
        "Memory management is the process by which Python allocates and deallocates memory for objects automatically, largely through its garbage collection system.\n",
        "\n",
        "12.What are the basic steps involved in exception handling in Python? --\n",
        "The basic steps are:\n",
        "\n",
        "Wrap code in a try block\n",
        "Catch exceptions with except blocks\n",
        "Optionally use an else block for code that runs if no exception occurs\n",
        "Use a finally block for cleanup actions regardless of what happened\n",
        "\n",
        "13.Why is memory management important in Python? --\n",
        "Good memory management prevents resource leaks and ensures that your program uses memory efficiently, which is critical for performance.\n",
        "\n",
        "14.What is the role of try and except in exception handling? --\n",
        "The try block contains code that might raise an exception, and the except block catches and handles those exceptions.\n",
        "\n",
        "15.How does Python's garbage collection system work? --\n",
        "Python uses a reference counting mechanism along with a cyclic garbage collector to automatically reclaim memory that is no longer in use.\n",
        "\n",
        "16.What is the purpose of the else block in exception handling? --\n",
        "The else block executes code only if the try block did not raise any exceptions.\n",
        "\n",
        "17.What are the common logging levels in Python? --\n",
        "Common levels include:\n",
        "\n",
        "DEBUG\n",
        "INFO\n",
        "WARNING\n",
        "ERROR\n",
        "CRITICAL\n",
        "\n",
        "18.What is the difference between os.fork() and multiprocessing in Python? --\n",
        "os.fork() creates a child process (available only on Unix-like systems) by duplicating the current process, while the multiprocessing module provides a cross-platform API to spawn new processes.\n",
        "\n",
        "19.What is the importance of closing a file in Python? --\n",
        "Closing a file frees up system resources and ensures that any data written to the file is properly saved to disk.\n",
        "\n",
        "20.What is the difference between file.read() and file.readline() in Python? --\n",
        "\n",
        "file.read(): Reads the entire file content as a single string.\n",
        "file.readline(): Reads one line from the file at a time.\n",
        "\n",
        "21.What is the logging module in Python used for? --\n",
        "It is used for configuring and managing log messages, which helps in monitoring and debugging applications.\n",
        "\n",
        "22.What is the os module in Python used for in file handling? --\n",
        "The os module provides functions to interact with the operating system, such as checking file existence, removing files, and manipulating file paths.\n",
        "\n",
        "23.What are the challenges associated with memory management in Python? --\n",
        "Challenges include managing memory leaks, handling fragmentation, and optimizing performance for large data sets.\n",
        "\n",
        "24.How do you raise an exception manually in Python? --\n",
        "You can raise an exception using the raise keyword, e.g., raise ValueError(\"An error occurred\").\n",
        "\n",
        "25.Why is it important to use multithreading in certain applications? --\n",
        "Multithreading can improve performance in I/O-bound applications by allowing multiple operations to run concurrently, reducing waiting times."
      ],
      "metadata": {
        "id": "OiHUy2c2hgqv"
      }
    },
    {
      "cell_type": "markdown",
      "source": [
        "PRACTICAL QUESTION"
      ],
      "metadata": {
        "id": "2YyAFVg7kI0_"
      }
    },
    {
      "cell_type": "code",
      "source": [
        "# How can you open a file for writing in Python and write a string to it\n",
        "\n",
        "# with open('output.txt', 'w') as file:\n",
        "#    file.write(\"Hello, world!\")"
      ],
      "metadata": {
        "id": "JTOdvFHYkvz3"
      },
      "execution_count": 3,
      "outputs": []
    },
    {
      "cell_type": "code",
      "source": [
        "# Write a Python program to read the contents of a file and print each line.\n",
        "\n",
        "# with open('input.txt', 'r') as file:\n",
        "#    for line in file:\n",
        "#        print(line)"
      ],
      "metadata": {
        "id": "zKgqjZxZmHVD"
      },
      "execution_count": 5,
      "outputs": []
    },
    {
      "cell_type": "code",
      "source": [
        "# How would you handle a case where the file doesn't exist while trying to open it for reading?\n",
        "\n",
        "# try:\n",
        "#    with('nonexistent.txt', 'r') as file:\n",
        "#        content = file.read()\n",
        "# except FileNotFoundError:\n",
        "#    print(\"File not found!\")"
      ],
      "metadata": {
        "id": "XRr2NcLcmWdk"
      },
      "execution_count": 6,
      "outputs": []
    },
    {
      "cell_type": "code",
      "source": [
        "# Write a Python script that reads from one file and writes its content to another file.\n",
        "\n",
        "# with open('source.txt', 'r') as src, open('destination.txt', 'w') as dest:\n",
        "#    dest.write(src.read())"
      ],
      "metadata": {
        "id": "MLhfE0gYpcKV"
      },
      "execution_count": 7,
      "outputs": []
    },
    {
      "cell_type": "code",
      "source": [
        "# How would you catch and handle division by zero error in Python?\n",
        "# try:\n",
        "#    result = 10 / 0\n",
        "# except ZeroDivisionError:\n",
        "#    print(\"Cannot divide by zero!\")"
      ],
      "metadata": {
        "id": "a3CT3ggyppLq"
      },
      "execution_count": 8,
      "outputs": []
    },
    {
      "cell_type": "code",
      "source": [
        "# Write a Python program that logs an error message to a log file when a division by zero exception occurs.\n",
        "\n",
        "#import logging\n",
        "#logging.basicConfig(filename='app.log', level=logging.ERROR)\n",
        "#try:\n",
        "#    result = 10 / 0\n",
        "#except ZeroDivisionError:\n",
        "#    logging.error(\"Division by zero error occurred\")"
      ],
      "metadata": {
        "id": "R2-ThXcKp3cQ"
      },
      "execution_count": 9,
      "outputs": []
    },
    {
      "cell_type": "code",
      "source": [
        "# How do you log information at different levels (INFO, ERROR, WARNING) in Python using the logging module?\n",
        "\n",
        "#import logging\n",
        "#logging.basicConfig(level=logging.DEBUG)\n",
        "#logging.info(\"This is an info message\")\n",
        "#logging.warning(\"This is a warning message\")\n",
        "#logging.error(\"This is an error message\")"
      ],
      "metadata": {
        "id": "f-YqLRvWqKFa"
      },
      "execution_count": 10,
      "outputs": []
    },
    {
      "cell_type": "code",
      "source": [
        "# Write a program to handle a file opening error using exception handling.\n",
        "# try:\n",
        "#    file = open('nonexistent.txt', 'r')\n",
        "# except FileNotFoundError:\n",
        "#    print(\"The file does not exist!\")"
      ],
      "metadata": {
        "id": "ZsFvUsg1qaES"
      },
      "execution_count": 11,
      "outputs": []
    },
    {
      "cell_type": "code",
      "source": [
        "# How can you read a file line by line and store its content in a list in Python?\n",
        "# with open('file.txt', 'r') as file:\n",
        "#    lines = file.readlines()"
      ],
      "metadata": {
        "id": "HIugQxe1qmj5"
      },
      "execution_count": 12,
      "outputs": []
    },
    {
      "cell_type": "code",
      "source": [
        "# How can you append data to an existing file in Python?\n",
        "# with open('file.txt', 'a') as file:\n",
        "#    file.write(\"Appended data\\n\")"
      ],
      "metadata": {
        "id": "00jy_Vp7q9F7"
      },
      "execution_count": 13,
      "outputs": []
    },
    {
      "cell_type": "code",
      "source": [
        "# Write a Python program that uses a try-except block to handle an error when attempting to access a dictionary key that doesn't exist.\n",
        "#my_dict = {'a': 1, 'b': 2}\n",
        "#try:\n",
        "#    value = my_dict['c']\n",
        "#except KeyError:\n",
        "#    print(\"Key not found!\")"
      ],
      "metadata": {
        "id": "4k7gWdqNrJXf"
      },
      "execution_count": 14,
      "outputs": []
    },
    {
      "cell_type": "code",
      "source": [
        "# Write a program that demonstrates using multiple except blocks to handle different types of exceptions.\n",
        "# try:\n",
        "\n",
        "#    numbers = [1, 2, 3]\n",
        "#    print(numbers[5])\n",
        "#except IndexError:\n",
        "#    print(\"Index error occurred!\")\n",
        "#except KeyError:\n",
        "#    print(\"Key error occurred!\")"
      ],
      "metadata": {
        "id": "Kkj6CsnZrYji"
      },
      "execution_count": 15,
      "outputs": []
    },
    {
      "cell_type": "code",
      "source": [
        "# How would you check if a file exists before attempting to read it in Python?\n",
        "#import os\n",
        "#if os.path.exists('file.txt'):\n",
        "#    with open('file.txt', 'r') as file:\n",
        "#        print(file.read())\n",
        "#else:\n",
        "#    print(\"File does not exist.\")"
      ],
      "metadata": {
        "id": "XpiSihlEriXl"
      },
      "execution_count": 16,
      "outputs": []
    },
    {
      "cell_type": "code",
      "source": [
        "# Write a program that uses the logging module to log both informational and error messages.\n",
        "#import logging\n",
        "#logging.basicConfig(filename='app.log', level=logging.INFO)\n",
        "#logging.info(\"Program started successfully\")\n",
        "#logging.error(\"An error occurred\")"
      ],
      "metadata": {
        "id": "Wb9xNEKCrszK"
      },
      "execution_count": 17,
      "outputs": []
    },
    {
      "cell_type": "code",
      "source": [
        "# Write a Python program that prints the content of a file and handles the case when the file is empty.\n",
        "#with open('file.txt', 'r') as file:\n",
        "#    content = file.read()\n",
        "#    if content:\n",
        "#        print(content)\n",
        "#    else:\n",
        "#        print(\"The file is empty.\")"
      ],
      "metadata": {
        "id": "1srQWiSmr1dE"
      },
      "execution_count": 18,
      "outputs": []
    },
    {
      "cell_type": "code",
      "source": [
        "# Demonstrate how to use memory profiling to check the memory usage of a small program.\n",
        "#import tracemalloc\n",
        "#tracemalloc.start()\n",
        "\n",
        "#current, peak = tracemalloc.get_traced_memory()\n",
        "#print(f\"Current memory usage: {current} bytes; Peak was {peak} bytes\")\n",
        "#tracemalloc.stop()"
      ],
      "metadata": {
        "id": "ThG09KWtr-aq"
      },
      "execution_count": 19,
      "outputs": []
    },
    {
      "cell_type": "code",
      "source": [
        "# Write a Python program to create and write a list of numbers to a file, one number per line.\n",
        "#numbers = [1, 2, 3, 4, 5]\n",
        "#with open('numbers.txt', 'w') as file:\n",
        "#    for number in numbers:\n",
        "#        file.write(f\"{number}\\n\")"
      ],
      "metadata": {
        "id": "WLEgQr0ysIK1"
      },
      "execution_count": 20,
      "outputs": []
    },
    {
      "cell_type": "code",
      "source": [
        "# How would you implement a basic logging setup that logs to a file with rotation after 1MB?\n",
        "#import logging\n",
        "#from logging.handlers import RotatingFileHandler\n",
        "\n",
        "#handler = RotatingFileHandler('app.log', maxBytes=1048576, backupCount=3)\n",
        "#logger = logging.getLogger(__name__)\n",
        "#logger.setLevel(logging.INFO)\n",
        "#logger.addHandler(handler)\n",
        "\n",
        "#logger.info(\"This is an informational message.\")"
      ],
      "metadata": {
        "id": "1m_Y9HdzsSd7"
      },
      "execution_count": 21,
      "outputs": []
    },
    {
      "cell_type": "code",
      "source": [
        "# Write a program that handles both IndexError and KeyError using a try-except block.\n",
        "#try:\n",
        "#    sample_list = [10, 20, 30]\n",
        "#    print(sample_list[5])\n",
        "#    sample_dict = {'x': 100}\n",
        "#    print(sample_dict['y'])\n",
        "#except IndexError:\n",
        "#    print(\"Handled an index error.\")\n",
        "#except KeyError:\n",
        "#   print(\"Handled a key error.\")"
      ],
      "metadata": {
        "id": "67m6Zn3Lsfz8"
      },
      "execution_count": 22,
      "outputs": []
    },
    {
      "cell_type": "code",
      "source": [
        "# How would you open a file and read its contents using a context manager in Python?\n",
        "#with open('file.txt', 'r') as file:\n",
        "#    data = file.read()\n",
        "#    print(data)"
      ],
      "metadata": {
        "id": "o3Sw5ZSasqRN"
      },
      "execution_count": 23,
      "outputs": []
    },
    {
      "cell_type": "code",
      "source": [
        "# Write a Python program that reads a file and prints the number of occurrences of a specific word.\n",
        "#word_to_count = \"python\"\n",
        "#with open('file.txt', 'r') as file:\n",
        "#    content = file.read().lower()\n",
        "#    count = content.count(word_to_count.lower())\n",
        "#    print(f\"The word '{word_to_count}' occurs {count} times.\")"
      ],
      "metadata": {
        "id": "7kp_OOyBsyfq"
      },
      "execution_count": 24,
      "outputs": []
    },
    {
      "cell_type": "code",
      "source": [
        "# How can you check if a file is empty before attempting to read its contents?\n",
        "#import os\n",
        "#if os.path.getsize('file.txt') == 0:\n",
        "#    print(\"The file is empty.\")\n",
        "#else:\n",
        "#    with open('file.txt', 'r') as file:\n",
        "#        print(file.read())"
      ],
      "metadata": {
        "id": "J-P9rcQys5uT"
      },
      "execution_count": 25,
      "outputs": []
    },
    {
      "cell_type": "code",
      "source": [
        "# Write a Python program that writes to a log file when an error occurs during file handling.\n",
        "#import logging\n",
        "#logging.basicConfig(filename='error.log', level=logging.ERROR)\n",
        "#try:\n",
        "#    with open('nonexistent.txt', 'r') as file:\n",
        "#        data = file.read()\n",
        "#except Exception as e:\n",
        "#    logging.error(f\"An error occurred: {e}\")"
      ],
      "metadata": {
        "id": "7_cMpkB3tBF3"
      },
      "execution_count": 26,
      "outputs": []
    }
  ]
}